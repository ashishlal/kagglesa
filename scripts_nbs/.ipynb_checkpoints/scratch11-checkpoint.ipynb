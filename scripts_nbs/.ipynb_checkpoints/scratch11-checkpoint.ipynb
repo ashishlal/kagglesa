{
 "cells": [
  {
   "cell_type": "code",
   "execution_count": 1,
   "metadata": {
    "collapsed": true
   },
   "outputs": [],
   "source": [
    "import os"
   ]
  },
  {
   "cell_type": "code",
   "execution_count": 2,
   "metadata": {},
   "outputs": [
    {
     "data": {
      "text/plain": [
       "['sub1aa.csv',\n",
       " 'sub10c.csv',\n",
       " 'sub10d.csv',\n",
       " 'sub10e.csv',\n",
       " 'sub10b.csv',\n",
       " 'sub10a.csv',\n",
       " 'lgb_cb_starter_submission.csv']"
      ]
     },
     "execution_count": 2,
     "metadata": {},
     "output_type": "execute_result"
    }
   ],
   "source": [
    "os.listdir('../submissions/ensemble')"
   ]
  },
  {
   "cell_type": "code",
   "execution_count": null,
   "metadata": {
    "collapsed": true
   },
   "outputs": [],
   "source": [
    "import pandas as pd\n",
    "a = pd.read_csv('../submissions/ensemble/sub1aa.csv')\n",
    "b = pd.read_csv('../submissions/ensemble/sub10a.csv')\n",
    "c = pd.read_csv('../submissions/ensemble/sub10b.csv')\n",
    "d = pd.read_csv('../submissions/ensemble/sub10c.csv')\n",
    "e = pd.read_csv('../submissions/ensemble/sub10d.csv')\n",
    "f = pd.read_csv('../submissions/ensemble/sub10e.csv')\n",
    "g = pd.read_csv('../submissions/ensemble/lgb_cb_starter_submission.csv')"
   ]
  }
 ],
 "metadata": {
  "kernelspec": {
   "display_name": "sa",
   "language": "python",
   "name": "sa"
  },
  "language_info": {
   "codemirror_mode": {
    "name": "ipython",
    "version": 3
   },
   "file_extension": ".py",
   "mimetype": "text/x-python",
   "name": "python",
   "nbconvert_exporter": "python",
   "pygments_lexer": "ipython3",
   "version": "3.6.3"
  }
 },
 "nbformat": 4,
 "nbformat_minor": 2
}
