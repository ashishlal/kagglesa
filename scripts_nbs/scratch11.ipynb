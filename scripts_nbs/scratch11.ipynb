{
 "cells": [
  {
   "cell_type": "code",
   "execution_count": 1,
   "metadata": {
    "collapsed": true
   },
   "outputs": [],
   "source": [
    "import os"
   ]
  },
  {
   "cell_type": "code",
   "execution_count": 2,
   "metadata": {},
   "outputs": [
    {
     "data": {
      "text/plain": [
       "['sub1aa.csv',\n",
       " 'sub10c.csv',\n",
       " 'sub10d.csv',\n",
       " 'sub10e.csv',\n",
       " 'sub10b.csv',\n",
       " 'sub10a.csv',\n",
       " 'lgb_cb_starter_submission.csv']"
      ]
     },
     "execution_count": 2,
     "metadata": {},
     "output_type": "execute_result"
    }
   ],
   "source": [
    "os.listdir('../submissions/ensemble')"
   ]
  },
  {
   "cell_type": "code",
   "execution_count": 3,
   "metadata": {
    "collapsed": true
   },
   "outputs": [],
   "source": [
    "import pandas as pd\n",
    "a = pd.read_csv('../submissions/ensemble/sub1aa.csv')\n",
    "b = pd.read_csv('../submissions/ensemble/sub10a.csv')\n",
    "c = pd.read_csv('../submissions/ensemble/sub10b.csv')\n",
    "d = pd.read_csv('../submissions/ensemble/sub10c.csv')\n",
    "e = pd.read_csv('../submissions/ensemble/sub10d.csv')\n",
    "f = pd.read_csv('../submissions/ensemble/sub10e.csv')\n",
    "g = pd.read_csv('../submissions/ensemble/lgb_cb_starter_submission.csv')"
   ]
  },
  {
   "cell_type": "code",
   "execution_count": 4,
   "metadata": {},
   "outputs": [
    {
     "data": {
      "text/html": [
       "<div>\n",
       "<style scoped>\n",
       "    .dataframe tbody tr th:only-of-type {\n",
       "        vertical-align: middle;\n",
       "    }\n",
       "\n",
       "    .dataframe tbody tr th {\n",
       "        vertical-align: top;\n",
       "    }\n",
       "\n",
       "    .dataframe thead th {\n",
       "        text-align: right;\n",
       "    }\n",
       "</style>\n",
       "<table border=\"1\" class=\"dataframe\">\n",
       "  <thead>\n",
       "    <tr style=\"text-align: right;\">\n",
       "      <th></th>\n",
       "      <th>ID_code</th>\n",
       "      <th>target</th>\n",
       "    </tr>\n",
       "  </thead>\n",
       "  <tbody>\n",
       "    <tr>\n",
       "      <th>0</th>\n",
       "      <td>test_0</td>\n",
       "      <td>0.07863</td>\n",
       "    </tr>\n",
       "  </tbody>\n",
       "</table>\n",
       "</div>"
      ],
      "text/plain": [
       "  ID_code   target\n",
       "0  test_0  0.07863"
      ]
     },
     "execution_count": 4,
     "metadata": {},
     "output_type": "execute_result"
    }
   ],
   "source": [
    "a.head(1)"
   ]
  },
  {
   "cell_type": "code",
   "execution_count": 5,
   "metadata": {
    "collapsed": true
   },
   "outputs": [],
   "source": [
    "from scipy.stats import rankdata\n",
    "import numpy as np\n",
    "LABELS = [\"target\"]\n",
    "\n",
    "predict_list = []\n",
    "\n",
    "\n",
    "predict_list.append(a[LABELS].values)\n",
    "predict_list.append(b[LABELS].values)\n",
    "predict_list.append(c[LABELS].values)\n",
    "predict_list.append(d[LABELS].values)\n",
    "predict_list.append(e[LABELS].values)\n",
    "predict_list.append(f[LABELS].values)\n",
    "predict_list.append(g[LABELS].values)"
   ]
  },
  {
   "cell_type": "code",
   "execution_count": 6,
   "metadata": {},
   "outputs": [
    {
     "name": "stdout",
     "output_type": "stream",
     "text": [
      "Rank averaging on  7  files\n"
     ]
    }
   ],
   "source": [
    "print(\"Rank averaging on \", len(predict_list), \" files\")\n",
    "predictions = np.zeros_like(predict_list[0])\n",
    "for predict in predict_list:\n",
    "    for i in range(1):\n",
    "        predictions[:, i] = np.add(predictions[:, i], rankdata(predict[:, i])/predictions.shape[0])  \n",
    "predictions /= len(predict_list)\n",
    "\n",
    "submission = pd.read_csv('../data/sample_submission.csv.zip')\n",
    "submission[LABELS] = predictions\n",
    "submission.to_csv('../submissions/rank_ensemble.csv', index=False)"
   ]
  },
  {
   "cell_type": "code",
   "execution_count": null,
   "metadata": {
    "collapsed": true
   },
   "outputs": [],
   "source": []
  }
 ],
 "metadata": {
  "kernelspec": {
   "display_name": "sa",
   "language": "python",
   "name": "sa"
  },
  "language_info": {
   "codemirror_mode": {
    "name": "ipython",
    "version": 3
   },
   "file_extension": ".py",
   "mimetype": "text/x-python",
   "name": "python",
   "nbconvert_exporter": "python",
   "pygments_lexer": "ipython3",
   "version": "3.6.3"
  }
 },
 "nbformat": 4,
 "nbformat_minor": 2
}
